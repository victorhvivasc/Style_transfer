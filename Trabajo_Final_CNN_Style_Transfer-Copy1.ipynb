{
 "cells": [
  {
   "cell_type": "markdown",
   "metadata": {
    "colab_type": "text",
    "id": "qCY6UbkkI9_N"
   },
   "source": [
    "# Style Transfer\n",
    "\n",
    "<img src=\"https://i0.wp.com/chelseatroy.com/wp-content/uploads/2018/12/neural_style_transfer.png?resize=768%2C311&ssl=1\">\n",
    "\n",
    "La idea de este trabajo final es reproducir el siguiente paper:\n",
    "\n",
    "https://arxiv.org/pdf/1508.06576.pdf\n",
    "\n",
    "El objetivo es transferir el estilo de una imagen dada a otra imagen distinta. \n",
    "\n",
    "Como hemos visto en clase, las primeras capas de una red convolucional se activan ante la presencia de ciertos patrones vinculados a detalles muy pequeños.\n",
    "\n",
    "A medida que avanzamos en las distintas capas de una red neuronal convolucional, los filtros se van activando a medida que detectan patrones de formas cada vez mas complejos.\n",
    "\n",
    "Lo que propone este paper es asignarle a la activación de las primeras capas de una red neuronal convolucional (por ejemplo VGG19) la definición del estilo y a la activación de las últimas capas de la red neuronal convolucional, la definición del contenido.\n",
    "\n",
    "La idea de este paper es, a partir de dos imágenes (una que aporte el estilo y otra que aporte el contenido) analizar cómo es la activación de las primeras capas para la imagen que aporta el estilo y cómo es la activación de las últimas capas de la red convolucional para la imagen que aporta el contenido. A partir de esto se intentará sintetizar una imagen que active los filtros de las primeras capas que se activaron con la imagen que aporta el estilo y los filtros de las últimas capas que se activaron con la imagen que aporta el contenido.\n",
    "\n",
    "A este procedimiento se lo denomina neural style transfer.\n",
    "\n",
    "# En este trabajo se deberá leer el paper mencionado y en base a ello, entender la implementación que se muestra a continuación y contestar preguntas sobre la misma.\n",
    "\n",
    "# Una metodología posible es hacer una lectura rápida del paper (aunque esto signifique no entender algunos detalles del mismo) y luego ir analizando el código y respondiendo las preguntas. A medida que se planteen las preguntas, volviendo a leer secciones específicas del paper terminará de entender los detalles que pudieran haber quedado pendientes.\n",
    "\n",
    "Lo primero que haremos es cargar dos imágenes, una que aporte el estilo y otra que aporte el contenido. A tal fin utilizaremos imágenes disponibles en la web."
   ]
  },
  {
   "cell_type": "code",
   "execution_count": 7,
   "metadata": {
    "colab": {
     "base_uri": "https://localhost:8080/",
     "height": 436
    },
    "colab_type": "code",
    "id": "kyHsa2t0SxZi",
    "outputId": "892e8573-ac95-4f0e-9adf-f212a2fccb1a"
   },
   "outputs": [
    {
     "name": "stdout",
     "output_type": "stream",
     "text": [
      "--2020-09-26 14:51:36--  https://upload.wikimedia.org/wikipedia/commons/5/52/La_noche_estrellada1.jpg\n",
      "Resolviendo upload.wikimedia.org (upload.wikimedia.org)... 208.80.153.240, 2620:0:860:ed1a::2:b\n",
      "Conectando con upload.wikimedia.org (upload.wikimedia.org)[208.80.153.240]:443... conectado.\n",
      "Petición HTTP enviada, esperando respuesta... 200 OK\n",
      "Longitud: 223725 (218K) [image/jpeg]\n",
      "Guardando como: “La_noche_estrellada1.jpg.1”\n",
      "\n",
      "La_noche_estrellada 100%[===================>] 218,48K   287KB/s    en 0,8s    \n",
      "\n",
      "2020-09-26 14:51:38 (287 KB/s) - “La_noche_estrellada1.jpg.1” guardado [223725/223725]\n",
      "\n",
      "--2020-09-26 14:51:38--  https://upload.wikimedia.org/wikipedia/commons/thumb/f/f4/Neckarfront_T%C3%BCbingen_Mai_2017.jpg/775px-Neckarfront_T%C3%BCbingen_Mai_2017.jpg\n",
      "Resolviendo upload.wikimedia.org (upload.wikimedia.org)... 208.80.153.240, 2620:0:860:ed1a::2:b\n",
      "Conectando con upload.wikimedia.org (upload.wikimedia.org)[208.80.153.240]:443... conectado.\n",
      "Petición HTTP enviada, esperando respuesta... 200 OK\n",
      "Longitud: 153015 (149K) [image/jpeg]\n",
      "Guardando como: “775px-Neckarfront_Tübingen_Mai_2017.jpg.1”\n",
      "\n",
      "775px-Neckarfront_T 100%[===================>] 149,43K   196KB/s    en 0,8s    \n",
      "\n",
      "2020-09-26 14:51:40 (196 KB/s) - “775px-Neckarfront_Tübingen_Mai_2017.jpg.1” guardado [153015/153015]\n",
      "\n",
      "mkdir: no se puede crear el directorio «/content/output»: No existe el archivo o el directorio\n"
     ]
    }
   ],
   "source": [
    "# Imagen para estilo\n",
    "!wget https://upload.wikimedia.org/wikipedia/commons/5/52/La_noche_estrellada1.jpg\n",
    "\n",
    "# Imagen para contenido\n",
    "!wget https://upload.wikimedia.org/wikipedia/commons/thumb/f/f4/Neckarfront_T%C3%BCbingen_Mai_2017.jpg/775px-Neckarfront_T%C3%BCbingen_Mai_2017.jpg\n",
    "\n",
    "# Creamos el directorio para los archivos de salida\n",
    "!mkdir /content/output"
   ]
  },
  {
   "cell_type": "code",
   "execution_count": 8,
   "metadata": {
    "colab": {},
    "colab_type": "code",
    "id": "NIxH20o2eFoc"
   },
   "outputs": [],
   "source": [
    "from keras.preprocessing.image import load_img, save_img, img_to_array\n",
    "import numpy as np\n",
    "from scipy.optimize import fmin_l_bfgs_b\n",
    "import time\n",
    "import argparse\n",
    "\n",
    "from keras.applications import vgg19\n",
    "from keras import backend as K\n",
    "from pathlib import Path\n",
    "import tensorflow as tf\n",
    "tf.compat.v1.disable_eager_execution()"
   ]
  },
  {
   "cell_type": "markdown",
   "metadata": {},
   "source": [
    "# Definimos las imagenes que vamos a utilizar, y el directorio de salida."
   ]
  },
  {
   "cell_type": "code",
   "execution_count": 9,
   "metadata": {
    "colab": {},
    "colab_type": "code",
    "id": "iLkV1bnFl_tK"
   },
   "outputs": [],
   "source": [
    "base_image_path = Path(\"/content/775px-Neckarfront_Tübingen_Mai_2017.jpg\") #esta es el contexto\n",
    "style_reference_image_path = Path(\"/content/La_noche_estrellada1.jpg\") #este es el estilo\n",
    "result_prefix = Path(\"/content/output\") # carpeta donde estan las imagenes, buscar a la izquierda\n",
    "iterations = 100"
   ]
  },
  {
   "cell_type": "markdown",
   "metadata": {
    "colab_type": "text",
    "id": "Gz2PeGfpeYzj"
   },
   "source": [
    "# 1) En base a lo visto en el paper ¿Qué significan los parámetros definidos en la siguiente celda?\n",
    "\n",
    "Respuesta:\n",
    "- Total_variation_weight: Este factor no esta definido en el paper.\n",
    "- style_weight: factor que controla la proporcion de aporte de estilo en la loss total, el mismo multiplicara el componente de estilo de la loss total (beta).\n",
    "- content_weight: de forma similar al anterior determinara el impacto que tendra la loss del contexto a la loss total(alpha)."
   ]
  },
  {
   "cell_type": "code",
   "execution_count": 10,
   "metadata": {
    "colab": {},
    "colab_type": "code",
    "id": "P9Dt3aaEmJWS"
   },
   "outputs": [],
   "source": [
    "# con estos 3 puedes jugar para determinar el estilo final\n",
    "total_variation_weight = 0.3 \n",
    "style_weight = 0.95\n",
    "content_weight = 0.5"
   ]
  },
  {
   "cell_type": "code",
   "execution_count": null,
   "metadata": {},
   "outputs": [],
   "source": [
    "load_img(base_image_path).size"
   ]
  },
  {
   "cell_type": "code",
   "execution_count": null,
   "metadata": {},
   "outputs": [],
   "source": [
    "# Definimos el tamaño de las imágenes a utilizar\n",
    "width, height = load_img(base_image_path).size\n",
    "img_nrows = 400 # si aumentas este aumenta el tamañp de la imagen de salida pero es considerablemente mas lento\n",
    "img_ncols = int(width * img_nrows / height)"
   ]
  },
  {
   "cell_type": "markdown",
   "metadata": {
    "colab_type": "text",
    "id": "gg2ct-8agm1E"
   },
   "source": [
    "# 2) Explicar qué hace la siguiente celda. En especial las últimas dos líneas de la función antes del return. ¿Por qué?\n",
    "\n",
    "Ayuda: https://keras.io/applications/\n",
    "\n",
    "Respuesta: \n",
    "- En la implementacion en keras de la vgg19 se requiere un preprocesamiento de los inputs para que coincida con el shape del resto de la red. En el caso de la ultima linea es un metodo que adapta el formato de la imagen al modo \"cafe\" que es en el que inicialmente se implemento el Transfer Style."
   ]
  },
  {
   "cell_type": "code",
   "execution_count": 7,
   "metadata": {
    "colab": {},
    "colab_type": "code",
    "id": "tAkljg4zuzYd"
   },
   "outputs": [],
   "source": [
    "def preprocess_image(image_path):\n",
    "    img = load_img(image_path, target_size=(img_nrows, img_ncols))\n",
    "    img = img_to_array(img)\n",
    "    img = np.expand_dims(img, axis=0)\n",
    "    img = vgg19.preprocess_input(img)\n",
    "    return img"
   ]
  },
  {
   "cell_type": "markdown",
   "metadata": {
    "colab_type": "text",
    "id": "KTf0YDSagt10"
   },
   "source": [
    "# 3) Habiendo comprendido lo que hace la celda anterior, explique de manera muy concisa qué hace la siguiente celda. ¿Qué relación tiene con la celda anterior?\n",
    "\n",
    "Respuesta: \n",
    "- Para poder tener una imagen en un formato mas estandar se desprocesa nuevamente de caffe a alto, ancho, canales para guardarla como imagen."
   ]
  },
  {
   "cell_type": "code",
   "execution_count": 8,
   "metadata": {
    "colab": {},
    "colab_type": "code",
    "id": "y5LaTrsAu14z"
   },
   "outputs": [],
   "source": [
    "def deprocess_image(x):\n",
    "    x = x.reshape((img_nrows, img_ncols, 3))\n",
    "    # Remove zero-center by mean pixel\n",
    "    x[:, :, 0] += 103.939\n",
    "    x[:, :, 1] += 116.779\n",
    "    x[:, :, 2] += 123.68\n",
    "    # 'BGR'->'RGB'\n",
    "    x = x[:, :, ::-1]\n",
    "    x = np.clip(x, 0, 255).astype('uint8')\n",
    "    return x"
   ]
  },
  {
   "cell_type": "code",
   "execution_count": 9,
   "metadata": {
    "colab": {},
    "colab_type": "code",
    "id": "HYNio09mu4S3"
   },
   "outputs": [],
   "source": [
    "# get tensor representations of our images\n",
    "# K.variable convierte un numpy array en un tensor, para \n",
    "base_image = K.variable(preprocess_image(base_image_path))\n",
    "style_reference_image = K.variable(preprocess_image(style_reference_image_path))"
   ]
  },
  {
   "cell_type": "code",
   "execution_count": 10,
   "metadata": {
    "colab": {},
    "colab_type": "code",
    "id": "a1Lbw02Uu--o"
   },
   "outputs": [],
   "source": [
    "combination_image = K.placeholder((1, img_nrows, img_ncols, 3))"
   ]
  },
  {
   "cell_type": "markdown",
   "metadata": {
    "colab_type": "text",
    "id": "RJEi0YI3Uzrm"
   },
   "source": [
    "Aclaración:\n",
    "\n",
    "La siguiente celda sirve para procesar las tres imagenes (contenido, estilo y salida) en un solo batch."
   ]
  },
  {
   "cell_type": "code",
   "execution_count": 11,
   "metadata": {
    "colab": {},
    "colab_type": "code",
    "id": "gGO_jGFfvEbF"
   },
   "outputs": [],
   "source": [
    "# combine the 3 images into a single Keras tensor\n",
    "input_tensor = K.concatenate([base_image,\n",
    "                              style_reference_image,\n",
    "                              combination_image], axis=0)"
   ]
  },
  {
   "cell_type": "code",
   "execution_count": 12,
   "metadata": {
    "colab": {
     "base_uri": "https://localhost:8080/",
     "height": 34
    },
    "colab_type": "code",
    "id": "tdG59VRavHGB",
    "outputId": "ae8e9b1d-beee-4a73-e40a-906bd53c899f"
   },
   "outputs": [
    {
     "name": "stdout",
     "output_type": "stream",
     "text": [
      "Model loaded.\n"
     ]
    }
   ],
   "source": [
    "# build the VGG19 network with our 3 images as input\n",
    "# the model will be loaded with pre-trained ImageNet weights\n",
    "model = vgg19.VGG19(input_tensor=input_tensor,\n",
    "                    weights='imagenet', include_top=False)\n",
    "print('Model loaded.')\n",
    "\n",
    "# get the symbolic outputs of each \"key\" layer (we gave them unique names).\n",
    "outputs_dict = dict([(layer.name, layer.output) for layer in model.layers])"
   ]
  },
  {
   "cell_type": "markdown",
   "metadata": {
    "colab_type": "text",
    "id": "70-vs_jZkKVc"
   },
   "source": [
    "# 4) En la siguientes celdas:\n",
    "\n",
    "- ¿Qué es la matriz de Gram?¿Para qué se usa?\n",
    "  - Es una matriz que contiene la multiplicacion escalar de un vector por el mismo transpuesto, brindando una independencia o correlacion de los datos. Aca se usa en la función de costo precisamente para determinar que tan parecido es el estilo de una imagen de la otra. \n",
    "- ¿Por qué se permutan las dimensiones de x?\n",
    "  - No estoy seguro pero, para me parece que es para darle mas relevancia a los canales que al alto y ancho."
   ]
  },
  {
   "cell_type": "code",
   "execution_count": 13,
   "metadata": {
    "colab": {},
    "colab_type": "code",
    "id": "K1FODPATvJ1k"
   },
   "outputs": [],
   "source": [
    "def gram_matrix(x):\n",
    "    features = K.batch_flatten(K.permute_dimensions(x, (2, 0, 1)))\n",
    "    gram = K.dot(features, K.transpose(features))\n",
    "    return gram"
   ]
  },
  {
   "cell_type": "markdown",
   "metadata": {
    "colab_type": "text",
    "id": "vBQkKFY0Rbx-"
   },
   "source": [
    "# 5) Losses:\n",
    "\n",
    "Explicar qué mide cada una de las losses en las siguientes tres celdas.\n",
    "\n",
    "Rta:\n",
    "- Style_loss: mide el error o la diferencia entre la imagen que proporciona estilo y la generada, mediante la matriz de Gram, esta noralizado por las dimensiones de las mismas\n",
    "- content_loss: mide el error cuadrado entre la imagen de contexto y la generada.\n",
    "- total_variation_loss: Parece ser un regulador que sustituye la imagen de ruido blanco que no se esta incluyendo en esta implementación."
   ]
  },
  {
   "cell_type": "code",
   "execution_count": 14,
   "metadata": {
    "colab": {},
    "colab_type": "code",
    "id": "1-Gt0ahWvN6q"
   },
   "outputs": [],
   "source": [
    "def style_loss(style, combination):\n",
    "    assert K.ndim(style) == 3\n",
    "    assert K.ndim(combination) == 3\n",
    "    S = gram_matrix(style)\n",
    "    C = gram_matrix(combination)\n",
    "    channels = 3\n",
    "    size = img_nrows * img_ncols\n",
    "    return K.sum(K.square(S - C)) / (4.0 * (channels ** 2) * (size ** 2))"
   ]
  },
  {
   "cell_type": "code",
   "execution_count": 15,
   "metadata": {
    "colab": {},
    "colab_type": "code",
    "id": "XCqnju5RvQCo"
   },
   "outputs": [],
   "source": [
    "def content_loss(base, combination):\n",
    "    return K.sum(K.square(combination - base))\n"
   ]
  },
  {
   "cell_type": "code",
   "execution_count": 16,
   "metadata": {
    "colab": {},
    "colab_type": "code",
    "id": "udEp5h31vRnY"
   },
   "outputs": [],
   "source": [
    "def total_variation_loss(x):\n",
    "    assert K.ndim(x) == 4\n",
    "    a = K.square(\n",
    "        x[:, :img_nrows - 1, :img_ncols - 1, :] - x[:, 1:, :img_ncols - 1, :])\n",
    "    b = K.square(\n",
    "        x[:, :img_nrows - 1, :img_ncols - 1, :] - x[:, :img_nrows - 1, 1:, :])\n",
    "    return K.sum(K.pow(a + b, 1.25))\n"
   ]
  },
  {
   "cell_type": "code",
   "execution_count": null,
   "metadata": {},
   "outputs": [],
   "source": [
    "outputs_dict"
   ]
  },
  {
   "cell_type": "code",
   "execution_count": 17,
   "metadata": {
    "colab": {},
    "colab_type": "code",
    "id": "OHdGv3_EmUN6"
   },
   "outputs": [],
   "source": [
    "# Armamos la loss total\n",
    "loss = K.variable(0.0)\n",
    "layer_features = outputs_dict['block5_conv2'] # SI modificas este de acuerdo a los nombres de la linea anterior \n",
    "                                            # cambia el resultado final\n",
    "base_image_features = layer_features[0, :, :, :]\n",
    "combination_features = layer_features[2, :, :, :]\n",
    "loss = loss + content_weight * content_loss(base_image_features, combination_features)\n",
    "\n",
    "feature_layers = ['block1_conv1', 'block2_conv1',\n",
    "                      'block3_conv1', 'block4_conv1',\n",
    "                      'block5_conv1'] ## SI modificas este de acuerdo a los nombres de la linea anterior \n",
    "                                            # cambia el resultado final\n",
    "for layer_name in feature_layers:\n",
    "    layer_features = outputs_dict[layer_name]\n",
    "    style_reference_features = layer_features[1, :, :, :] \n",
    "    combination_features = layer_features[2, :, :, :]\n",
    "    sl = style_loss(style_reference_features, combination_features)\n",
    "    loss = loss + (style_weight / len(feature_layers)) * sl\n",
    "loss = loss + total_variation_weight * total_variation_loss(combination_image)"
   ]
  },
  {
   "cell_type": "code",
   "execution_count": 17,
   "metadata": {
    "colab": {},
    "colab_type": "code",
    "id": "8zLrqFRonjyV"
   },
   "outputs": [],
   "source": []
  },
  {
   "cell_type": "code",
   "execution_count": 18,
   "metadata": {
    "colab": {
     "base_uri": "https://localhost:8080/",
     "height": 54
    },
    "colab_type": "code",
    "id": "-zwyuhlTmh2j",
    "outputId": "eea655c7-63e4-4b87-f2f8-f37264f886a0"
   },
   "outputs": [
    {
     "name": "stdout",
     "output_type": "stream",
     "text": [
      "[<tf.Tensor 'add_7:0' shape=() dtype=float32>, <tf.Tensor 'gradients/AddN_16:0' shape=(1, 400, 517, 3) dtype=float32>] [<tf.Tensor 'gradients/AddN_16:0' shape=(1, 400, 517, 3) dtype=float32>]\n"
     ]
    }
   ],
   "source": [
    "grads = K.gradients(loss, combination_image)\n",
    "\n",
    "outputs = [loss]\n",
    "if isinstance(grads, (list, tuple)):\n",
    "    outputs += grads\n",
    "else:\n",
    "    outputs.append(grads)\n",
    "print(outputs, grads)"
   ]
  },
  {
   "cell_type": "code",
   "execution_count": 19,
   "metadata": {
    "colab": {},
    "colab_type": "code",
    "id": "sgaJGHjVnl8D"
   },
   "outputs": [],
   "source": [
    "f_outputs = K.function([combination_image], outputs)"
   ]
  },
  {
   "cell_type": "markdown",
   "metadata": {
    "colab_type": "text",
    "id": "1JbydbOaVcvU"
   },
   "source": [
    "# 6) Explique el propósito de las siguientes tres celdas. ¿Qué hace la función fmin_l_bfgs_b? ¿En qué se diferencia con la implementación del paper? ¿Se puede utilizar alguna alternativa?\n",
    "\n",
    "Respuesta:\n",
    "- Se crea una funcion para evaluar la loss y el gradiente de de la imagen evaluada en la K.function.\n",
    "- Se crea una clase Evaluator que inicializa la loss y el gradiente en None y usa la f_outputs para devolver el valor de la loss y del gradiente para una imagen evaluada.\n",
    "- Se crea el loop de aprendizaje, en el cual se aprovecha la funcion fmin_l_bfgs_b de scipy como optimizador de la funcion de costo.\n",
    "- La función fmin_l_bfgs_b sirve para minimizar la funcion de costo usando el algoritmo L-BFGS-B, sería nuestro optimizador, nos actualiza la imagen y el minimo de la funcion.\n",
    "- Difiere del paper en que en esta implementación se incluye una funcion de costo total donde se agrega un componente de distorsion de la imagen en lugar de usar una imagen de ruido blanco sobre la imagen de contexto.\n",
    "- Si, se podria hacer la extraccion de features a otra altura y agregar capas distintas, ejemplo salir en Block5_conv2 y agregar el averagepooling, lo que tendria un mayor impacto en el resultado, podria usarse otros optimizadores de la función de costo."
   ]
  },
  {
   "cell_type": "code",
   "execution_count": 20,
   "metadata": {
    "colab": {},
    "colab_type": "code",
    "id": "zVE1_qemvZeN"
   },
   "outputs": [],
   "source": [
    "def eval_loss_and_grads(x):\n",
    "    x = x.reshape((1, img_nrows, img_ncols, 3))\n",
    "    outs = f_outputs([x])\n",
    "    loss_value = outs[0]\n",
    "    if len(outs[1:]) == 1:\n",
    "        grad_values = outs[1].flatten().astype('float64')\n",
    "    else:\n",
    "        grad_values = np.array(outs[1:]).flatten().astype('float64')\n",
    "    return loss_value, grad_values\n",
    "\n",
    "# this Evaluator class makes it possible\n",
    "# to compute loss and gradients in one pass\n",
    "# while retrieving them via two separate functions,\n",
    "# \"loss\" and \"grads\". This is done because scipy.optimize\n",
    "# requires separate functions for loss and gradients,\n",
    "# but computing them separately would be inefficient."
   ]
  },
  {
   "cell_type": "code",
   "execution_count": 21,
   "metadata": {
    "colab": {},
    "colab_type": "code",
    "id": "Qbl9roIgvdb1"
   },
   "outputs": [],
   "source": [
    "class Evaluator(object):\n",
    "\n",
    "    def __init__(self):\n",
    "        self.loss_value = None\n",
    "        self.grads_values = None\n",
    "\n",
    "    def loss(self, x):\n",
    "        assert self.loss_value is None\n",
    "        loss_value, grad_values = eval_loss_and_grads(x)\n",
    "        self.loss_value = loss_value\n",
    "        self.grad_values = grad_values\n",
    "        return self.loss_value\n",
    "\n",
    "    def grads(self, x):\n",
    "        assert self.loss_value is not None\n",
    "        grad_values = np.copy(self.grad_values)\n",
    "        self.loss_value = None\n",
    "        self.grad_values = None\n",
    "        return grad_values"
   ]
  },
  {
   "cell_type": "markdown",
   "metadata": {
    "colab_type": "text",
    "id": "Sb0yOEl-WOE6"
   },
   "source": [
    "# 7) Ejecute la siguiente celda y observe las imágenes de salida en cada iteración."
   ]
  },
  {
   "cell_type": "code",
   "execution_count": 22,
   "metadata": {
    "colab": {
     "base_uri": "https://localhost:8080/",
     "height": 1000
    },
    "colab_type": "code",
    "id": "n31YBwCVvhAI",
    "outputId": "449525d6-1da0-4b5d-8ac4-4903b9d0197b"
   },
   "outputs": [
    {
     "name": "stdout",
     "output_type": "stream",
     "text": [
      "Start of iteration 0\n",
      "Current loss value: 2816652300.0\n",
      "Image saved as /content/output/output_at_iteration_0_6.png\n",
      "Iteration 0 completed in 10s\n",
      "Start of iteration 1\n",
      "Current loss value: 1751025700.0\n",
      "Image saved as /content/output/output_at_iteration_1_6.png\n",
      "Iteration 1 completed in 6s\n",
      "Start of iteration 2\n",
      "Current loss value: 1436789600.0\n",
      "Image saved as /content/output/output_at_iteration_2_6.png\n",
      "Iteration 2 completed in 6s\n",
      "Start of iteration 3\n",
      "Current loss value: 1294916600.0\n",
      "Image saved as /content/output/output_at_iteration_3_6.png\n",
      "Iteration 3 completed in 6s\n",
      "Start of iteration 4\n",
      "Current loss value: 1200080300.0\n",
      "Image saved as /content/output/output_at_iteration_4_6.png\n",
      "Iteration 4 completed in 6s\n",
      "Start of iteration 5\n",
      "Current loss value: 1145520100.0\n",
      "Image saved as /content/output/output_at_iteration_5_6.png\n",
      "Iteration 5 completed in 6s\n",
      "Start of iteration 6\n",
      "Current loss value: 1099606800.0\n",
      "Image saved as /content/output/output_at_iteration_6_6.png\n",
      "Iteration 6 completed in 6s\n",
      "Start of iteration 7\n",
      "Current loss value: 1068209300.0\n",
      "Image saved as /content/output/output_at_iteration_7_6.png\n",
      "Iteration 7 completed in 6s\n",
      "Start of iteration 8\n",
      "Current loss value: 1047249600.0\n",
      "Image saved as /content/output/output_at_iteration_8_6.png\n",
      "Iteration 8 completed in 6s\n",
      "Start of iteration 9\n",
      "Current loss value: 1031981600.0\n",
      "Image saved as /content/output/output_at_iteration_9_6.png\n",
      "Iteration 9 completed in 6s\n",
      "Start of iteration 10\n",
      "Current loss value: 1017996740.0\n",
      "Image saved as /content/output/output_at_iteration_10_6.png\n",
      "Iteration 10 completed in 6s\n",
      "Start of iteration 11\n",
      "Current loss value: 1007831940.0\n",
      "Image saved as /content/output/output_at_iteration_11_6.png\n",
      "Iteration 11 completed in 6s\n",
      "Start of iteration 12\n",
      "Current loss value: 998958460.0\n",
      "Image saved as /content/output/output_at_iteration_12_6.png\n",
      "Iteration 12 completed in 6s\n",
      "Start of iteration 13\n",
      "Current loss value: 989882900.0\n",
      "Image saved as /content/output/output_at_iteration_13_6.png\n",
      "Iteration 13 completed in 6s\n",
      "Start of iteration 14\n",
      "Current loss value: 982573700.0\n",
      "Image saved as /content/output/output_at_iteration_14_6.png\n",
      "Iteration 14 completed in 6s\n",
      "Start of iteration 15\n",
      "Current loss value: 976828800.0\n",
      "Image saved as /content/output/output_at_iteration_15_6.png\n",
      "Iteration 15 completed in 6s\n",
      "Start of iteration 16\n",
      "Current loss value: 971356500.0\n",
      "Image saved as /content/output/output_at_iteration_16_6.png\n",
      "Iteration 16 completed in 6s\n",
      "Start of iteration 17\n",
      "Current loss value: 966498000.0\n",
      "Image saved as /content/output/output_at_iteration_17_6.png\n",
      "Iteration 17 completed in 6s\n",
      "Start of iteration 18\n",
      "Current loss value: 962166140.0\n",
      "Image saved as /content/output/output_at_iteration_18_6.png\n",
      "Iteration 18 completed in 6s\n",
      "Start of iteration 19\n",
      "Current loss value: 958046340.0\n",
      "Image saved as /content/output/output_at_iteration_19_6.png\n",
      "Iteration 19 completed in 6s\n",
      "Start of iteration 20\n",
      "Current loss value: 954142340.0\n",
      "Image saved as /content/output/output_at_iteration_20_6.png\n",
      "Iteration 20 completed in 6s\n",
      "Start of iteration 21\n",
      "Current loss value: 950713200.0\n",
      "Image saved as /content/output/output_at_iteration_21_6.png\n",
      "Iteration 21 completed in 6s\n",
      "Start of iteration 22\n",
      "Current loss value: 947717760.0\n",
      "Image saved as /content/output/output_at_iteration_22_6.png\n",
      "Iteration 22 completed in 6s\n",
      "Start of iteration 23\n",
      "Current loss value: 944858560.0\n",
      "Image saved as /content/output/output_at_iteration_23_6.png\n",
      "Iteration 23 completed in 6s\n",
      "Start of iteration 24\n",
      "Current loss value: 942340600.0\n",
      "Image saved as /content/output/output_at_iteration_24_6.png\n",
      "Iteration 24 completed in 6s\n",
      "Start of iteration 25\n",
      "Current loss value: 939720800.0\n",
      "Image saved as /content/output/output_at_iteration_25_6.png\n",
      "Iteration 25 completed in 6s\n",
      "Start of iteration 26\n",
      "Current loss value: 937355000.0\n",
      "Image saved as /content/output/output_at_iteration_26_6.png\n",
      "Iteration 26 completed in 6s\n",
      "Start of iteration 27\n",
      "Current loss value: 935386500.0\n",
      "Image saved as /content/output/output_at_iteration_27_6.png\n",
      "Iteration 27 completed in 6s\n",
      "Start of iteration 28\n",
      "Current loss value: 933268100.0\n",
      "Image saved as /content/output/output_at_iteration_28_6.png\n",
      "Iteration 28 completed in 6s\n",
      "Start of iteration 29\n",
      "Current loss value: 931156160.0\n",
      "Image saved as /content/output/output_at_iteration_29_6.png\n",
      "Iteration 29 completed in 6s\n",
      "Start of iteration 30\n",
      "Current loss value: 929340900.0\n",
      "Image saved as /content/output/output_at_iteration_30_6.png\n",
      "Iteration 30 completed in 6s\n",
      "Start of iteration 31\n",
      "Current loss value: 927575000.0\n",
      "Image saved as /content/output/output_at_iteration_31_6.png\n",
      "Iteration 31 completed in 6s\n",
      "Start of iteration 32\n",
      "Current loss value: 926052160.0\n",
      "Image saved as /content/output/output_at_iteration_32_6.png\n",
      "Iteration 32 completed in 6s\n",
      "Start of iteration 33\n",
      "Current loss value: 924621630.0\n",
      "Image saved as /content/output/output_at_iteration_33_6.png\n",
      "Iteration 33 completed in 6s\n",
      "Start of iteration 34\n",
      "Current loss value: 923196800.0\n",
      "Image saved as /content/output/output_at_iteration_34_6.png\n",
      "Iteration 34 completed in 6s\n",
      "Start of iteration 35\n",
      "Current loss value: 921979200.0\n",
      "Image saved as /content/output/output_at_iteration_35_6.png\n",
      "Iteration 35 completed in 6s\n",
      "Start of iteration 36\n",
      "Current loss value: 920937100.0\n",
      "Image saved as /content/output/output_at_iteration_36_6.png\n",
      "Iteration 36 completed in 6s\n",
      "Start of iteration 37\n",
      "Current loss value: 919638800.0\n",
      "Image saved as /content/output/output_at_iteration_37_6.png\n",
      "Iteration 37 completed in 6s\n",
      "Start of iteration 38\n",
      "Current loss value: 918355300.0\n",
      "Image saved as /content/output/output_at_iteration_38_6.png\n",
      "Iteration 38 completed in 6s\n",
      "Start of iteration 39\n",
      "Current loss value: 917322900.0\n",
      "Image saved as /content/output/output_at_iteration_39_6.png\n",
      "Iteration 39 completed in 6s\n",
      "Start of iteration 40\n",
      "Current loss value: 916274100.0\n",
      "Image saved as /content/output/output_at_iteration_40_6.png\n",
      "Iteration 40 completed in 6s\n",
      "Start of iteration 41\n",
      "Current loss value: 915296260.0\n",
      "Image saved as /content/output/output_at_iteration_41_6.png\n",
      "Iteration 41 completed in 6s\n",
      "Start of iteration 42\n",
      "Current loss value: 914384500.0\n",
      "Image saved as /content/output/output_at_iteration_42_6.png\n",
      "Iteration 42 completed in 6s\n",
      "Start of iteration 43\n",
      "Current loss value: 913501600.0\n",
      "Image saved as /content/output/output_at_iteration_43_6.png\n",
      "Iteration 43 completed in 6s\n",
      "Start of iteration 44\n",
      "Current loss value: 912607300.0\n",
      "Image saved as /content/output/output_at_iteration_44_6.png\n",
      "Iteration 44 completed in 6s\n",
      "Start of iteration 45\n",
      "Current loss value: 911759600.0\n",
      "Image saved as /content/output/output_at_iteration_45_6.png\n",
      "Iteration 45 completed in 6s\n",
      "Start of iteration 46\n",
      "Current loss value: 910993800.0\n",
      "Image saved as /content/output/output_at_iteration_46_6.png\n",
      "Iteration 46 completed in 6s\n",
      "Start of iteration 47\n",
      "Current loss value: 910181570.0\n",
      "Image saved as /content/output/output_at_iteration_47_6.png\n",
      "Iteration 47 completed in 6s\n",
      "Start of iteration 48\n",
      "Current loss value: 909390340.0\n",
      "Image saved as /content/output/output_at_iteration_48_6.png\n",
      "Iteration 48 completed in 6s\n",
      "Start of iteration 49\n",
      "Current loss value: 908679400.0\n",
      "Image saved as /content/output/output_at_iteration_49_6.png\n",
      "Iteration 49 completed in 6s\n",
      "Start of iteration 50\n",
      "Current loss value: 907967600.0\n",
      "Image saved as /content/output/output_at_iteration_50_6.png\n",
      "Iteration 50 completed in 6s\n",
      "Start of iteration 51\n",
      "Current loss value: 907314400.0\n",
      "Image saved as /content/output/output_at_iteration_51_6.png\n",
      "Iteration 51 completed in 6s\n",
      "Start of iteration 52\n",
      "Current loss value: 906654600.0\n",
      "Image saved as /content/output/output_at_iteration_52_6.png\n",
      "Iteration 52 completed in 6s\n",
      "Start of iteration 53\n",
      "Current loss value: 906034940.0\n",
      "Image saved as /content/output/output_at_iteration_53_6.png\n",
      "Iteration 53 completed in 6s\n",
      "Start of iteration 54\n",
      "Current loss value: 905413600.0\n",
      "Image saved as /content/output/output_at_iteration_54_6.png\n",
      "Iteration 54 completed in 6s\n",
      "Start of iteration 55\n",
      "Current loss value: 904818940.0\n",
      "Image saved as /content/output/output_at_iteration_55_6.png\n",
      "Iteration 55 completed in 6s\n",
      "Start of iteration 56\n",
      "Current loss value: 904212600.0\n",
      "Image saved as /content/output/output_at_iteration_56_6.png\n",
      "Iteration 56 completed in 6s\n",
      "Start of iteration 57\n",
      "Current loss value: 903602800.0\n",
      "Image saved as /content/output/output_at_iteration_57_6.png\n",
      "Iteration 57 completed in 6s\n",
      "Start of iteration 58\n",
      "Current loss value: 903040060.0\n",
      "Image saved as /content/output/output_at_iteration_58_6.png\n",
      "Iteration 58 completed in 6s\n",
      "Start of iteration 59\n",
      "Current loss value: 902492400.0\n",
      "Image saved as /content/output/output_at_iteration_59_6.png\n",
      "Iteration 59 completed in 6s\n",
      "Start of iteration 60\n",
      "Current loss value: 901977200.0\n",
      "Image saved as /content/output/output_at_iteration_60_6.png\n",
      "Iteration 60 completed in 6s\n",
      "Start of iteration 61\n",
      "Current loss value: 901451800.0\n",
      "Image saved as /content/output/output_at_iteration_61_6.png\n",
      "Iteration 61 completed in 6s\n",
      "Start of iteration 62\n",
      "Current loss value: 900961150.0\n",
      "Image saved as /content/output/output_at_iteration_62_6.png\n",
      "Iteration 62 completed in 6s\n",
      "Start of iteration 63\n",
      "Current loss value: 900504200.0\n",
      "Image saved as /content/output/output_at_iteration_63_6.png\n",
      "Iteration 63 completed in 6s\n",
      "Start of iteration 64\n",
      "Current loss value: 900059260.0\n",
      "Image saved as /content/output/output_at_iteration_64_6.png\n",
      "Iteration 64 completed in 6s\n",
      "Start of iteration 65\n",
      "Current loss value: 899618700.0\n",
      "Image saved as /content/output/output_at_iteration_65_6.png\n",
      "Iteration 65 completed in 6s\n",
      "Start of iteration 66\n",
      "Current loss value: 899201600.0\n",
      "Image saved as /content/output/output_at_iteration_66_6.png\n",
      "Iteration 66 completed in 6s\n",
      "Start of iteration 67\n",
      "Current loss value: 898795400.0\n",
      "Image saved as /content/output/output_at_iteration_67_6.png\n",
      "Iteration 67 completed in 6s\n",
      "Start of iteration 68\n",
      "Current loss value: 898405250.0\n",
      "Image saved as /content/output/output_at_iteration_68_6.png\n",
      "Iteration 68 completed in 6s\n",
      "Start of iteration 69\n",
      "Current loss value: 898012800.0\n",
      "Image saved as /content/output/output_at_iteration_69_6.png\n",
      "Iteration 69 completed in 6s\n",
      "Start of iteration 70\n",
      "Current loss value: 897617150.0\n",
      "Image saved as /content/output/output_at_iteration_70_6.png\n",
      "Iteration 70 completed in 6s\n",
      "Start of iteration 71\n",
      "Current loss value: 897237000.0\n",
      "Image saved as /content/output/output_at_iteration_71_6.png\n",
      "Iteration 71 completed in 6s\n",
      "Start of iteration 72\n",
      "Current loss value: 896872260.0\n",
      "Image saved as /content/output/output_at_iteration_72_6.png\n",
      "Iteration 72 completed in 6s\n",
      "Start of iteration 73\n",
      "Current loss value: 896499600.0\n",
      "Image saved as /content/output/output_at_iteration_73_6.png\n",
      "Iteration 73 completed in 6s\n",
      "Start of iteration 74\n",
      "Current loss value: 896142700.0\n",
      "Image saved as /content/output/output_at_iteration_74_6.png\n",
      "Iteration 74 completed in 6s\n",
      "Start of iteration 75\n",
      "Current loss value: 895806660.0\n",
      "Image saved as /content/output/output_at_iteration_75_6.png\n",
      "Iteration 75 completed in 6s\n",
      "Start of iteration 76\n",
      "Current loss value: 895492300.0\n",
      "Image saved as /content/output/output_at_iteration_76_6.png\n",
      "Iteration 76 completed in 6s\n",
      "Start of iteration 77\n",
      "Current loss value: 895180160.0\n",
      "Image saved as /content/output/output_at_iteration_77_6.png\n",
      "Iteration 77 completed in 6s\n",
      "Start of iteration 78\n",
      "Current loss value: 894868740.0\n",
      "Image saved as /content/output/output_at_iteration_78_6.png\n",
      "Iteration 78 completed in 6s\n",
      "Start of iteration 79\n",
      "Current loss value: 894553860.0\n",
      "Image saved as /content/output/output_at_iteration_79_6.png\n",
      "Iteration 79 completed in 6s\n",
      "Start of iteration 80\n",
      "Current loss value: 894262660.0\n",
      "Image saved as /content/output/output_at_iteration_80_6.png\n",
      "Iteration 80 completed in 6s\n",
      "Start of iteration 81\n",
      "Current loss value: 893962800.0\n",
      "Image saved as /content/output/output_at_iteration_81_6.png\n",
      "Iteration 81 completed in 6s\n",
      "Start of iteration 82\n",
      "Current loss value: 893644900.0\n",
      "Image saved as /content/output/output_at_iteration_82_6.png\n",
      "Iteration 82 completed in 6s\n",
      "Start of iteration 83\n",
      "Current loss value: 893322500.0\n",
      "Image saved as /content/output/output_at_iteration_83_6.png\n",
      "Iteration 83 completed in 6s\n",
      "Start of iteration 84\n",
      "Current loss value: 893012100.0\n",
      "Image saved as /content/output/output_at_iteration_84_6.png\n",
      "Iteration 84 completed in 6s\n",
      "Start of iteration 85\n",
      "Current loss value: 892725060.0\n",
      "Image saved as /content/output/output_at_iteration_85_6.png\n",
      "Iteration 85 completed in 6s\n",
      "Start of iteration 86\n",
      "Current loss value: 892453400.0\n",
      "Image saved as /content/output/output_at_iteration_86_6.png\n",
      "Iteration 86 completed in 6s\n",
      "Start of iteration 87\n",
      "Current loss value: 892199500.0\n",
      "Image saved as /content/output/output_at_iteration_87_6.png\n",
      "Iteration 87 completed in 6s\n",
      "Start of iteration 88\n",
      "Current loss value: 891924500.0\n",
      "Image saved as /content/output/output_at_iteration_88_6.png\n",
      "Iteration 88 completed in 6s\n",
      "Start of iteration 89\n",
      "Current loss value: 891668740.0\n",
      "Image saved as /content/output/output_at_iteration_89_6.png\n",
      "Iteration 89 completed in 6s\n",
      "Start of iteration 90\n",
      "Current loss value: 891406340.0\n",
      "Image saved as /content/output/output_at_iteration_90_6.png\n",
      "Iteration 90 completed in 6s\n",
      "Start of iteration 91\n",
      "Current loss value: 891144800.0\n",
      "Image saved as /content/output/output_at_iteration_91_6.png\n",
      "Iteration 91 completed in 6s\n",
      "Start of iteration 92\n",
      "Current loss value: 890903230.0\n",
      "Image saved as /content/output/output_at_iteration_92_6.png\n",
      "Iteration 92 completed in 6s\n",
      "Start of iteration 93\n",
      "Current loss value: 890668300.0\n",
      "Image saved as /content/output/output_at_iteration_93_6.png\n",
      "Iteration 93 completed in 6s\n",
      "Start of iteration 94\n",
      "Current loss value: 890439200.0\n",
      "Image saved as /content/output/output_at_iteration_94_6.png\n",
      "Iteration 94 completed in 6s\n",
      "Start of iteration 95\n",
      "Current loss value: 890217540.0\n",
      "Image saved as /content/output/output_at_iteration_95_6.png\n",
      "Iteration 95 completed in 6s\n",
      "Start of iteration 96\n",
      "Current loss value: 889999200.0\n",
      "Image saved as /content/output/output_at_iteration_96_6.png\n",
      "Iteration 96 completed in 6s\n",
      "Start of iteration 97\n",
      "Current loss value: 889792060.0\n",
      "Image saved as /content/output/output_at_iteration_97_6.png\n",
      "Iteration 97 completed in 6s\n",
      "Start of iteration 98\n",
      "Current loss value: 889566200.0\n",
      "Image saved as /content/output/output_at_iteration_98_6.png\n",
      "Iteration 98 completed in 6s\n",
      "Start of iteration 99\n",
      "Current loss value: 889327000.0\n",
      "Image saved as /content/output/output_at_iteration_99_6.png\n",
      "Iteration 99 completed in 6s\n"
     ]
    }
   ],
   "source": [
    "evaluator = Evaluator()\n",
    "\n",
    "# run scipy-based optimization (L-BFGS) over the pixels of the generated image\n",
    "# so as to minimize the neural style loss\n",
    "x = preprocess_image(base_image_path)\n",
    "\n",
    "for i in range(100):\n",
    "    print('Start of iteration', i)\n",
    "    start_time = time.time()\n",
    "    x, min_val, info = fmin_l_bfgs_b(evaluator.loss, x.flatten(),\n",
    "                                     fprime=evaluator.grads, maxfun=20)\n",
    "    print('Current loss value:', min_val)\n",
    "    # save current generated image\n",
    "    img = deprocess_image(x.copy())\n",
    "    fname = result_prefix / ('output_at_iteration_%d_6.png' % i)\n",
    "    save_img(fname, img)\n",
    "    end_time = time.time()\n",
    "    print('Image saved as', fname)\n",
    "    print('Iteration %d completed in %ds' % (i, end_time - start_time))"
   ]
  },
  {
   "cell_type": "markdown",
   "metadata": {
    "colab_type": "text",
    "id": "SkiJtofbWWy1"
   },
   "source": [
    "# 8) Generar imágenes para distintas combinaciones de pesos de las losses. Explicar las diferencias. (Adjuntar las imágenes generadas como archivos separados.)\n",
    "\n",
    "Respuesta: \n",
    "\n",
    "## 1 Salida original\n",
    "\n",
    "<img src=\"output/imagen_salida1.png\" >\n",
    "\n",
    "## 2 Aumentando el peso del contexto y disminuyendo el del estilo; no se notan cambios relevantes\n",
    "\n",
    "<img src=\"output/imagen_salida2.png\" >\n",
    "\n",
    "## 3 Aumentando aun mas el peso del contexto y disminuyendo el del estilo; no se identifican cambios notables.\n",
    "\n",
    "<img src=\"output/imagen_salida3.png\" >\n",
    "\n",
    "## 4 Aumentando la cantidad de iteraciones. \n",
    "\n",
    "<img src=\"output/imagen_salida4.png\" >\n",
    "\n",
    "## 5 Colocando los pesos por debajo de 1, 0.9 para estilo y 0.5 para contexto, se aprecia cambio de saturacion en los colores y lineas mas suaves\n",
    "\n",
    "<img src=\"output/imagen_salida5.png\" >\n",
    "\n",
    "# 9) Cambiar las imágenes de contenido y estilo por unas elegidas por usted. Adjuntar el resultado.\n",
    "\n",
    "Respuesta: \n",
    "\n",
    "## 1 Imagen de contexto:\n",
    "\n",
    "<img src=\"acro/imagen_content.jpg\">\n",
    "\n",
    "## 2 Imagen de estilo:\n",
    "\n",
    "<img src=\"acro/abstracto.jpg\">\n",
    "\n",
    "## 3 Imagen generada:\n",
    "\n",
    "<img src=\"acro/salida.png\">"
   ]
  },
  {
   "cell_type": "code",
   "execution_count": 22,
   "metadata": {
    "colab": {},
    "colab_type": "code",
    "id": "Akk4lqMDwZst"
   },
   "outputs": [],
   "source": []
  }
 ],
 "metadata": {
  "accelerator": "GPU",
  "colab": {
   "name": "Trabajo Final CNN - Style Transfer.ipynb",
   "provenance": []
  },
  "kernelspec": {
   "display_name": "Python 3",
   "language": "python",
   "name": "python3"
  },
  "language_info": {
   "codemirror_mode": {
    "name": "ipython",
    "version": 3
   },
   "file_extension": ".py",
   "mimetype": "text/x-python",
   "name": "python",
   "nbconvert_exporter": "python",
   "pygments_lexer": "ipython3",
   "version": "3.7.7"
  }
 },
 "nbformat": 4,
 "nbformat_minor": 4
}
